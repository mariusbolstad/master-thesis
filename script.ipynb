{
 "cells": [
  {
   "cell_type": "code",
   "execution_count": 4,
   "metadata": {},
   "outputs": [],
   "source": [
    "import pandas as pd\n",
    "\n",
    "def convert_excel_to_csv(excel_file_path, csv_file_path):\n",
    "    # Read the Excel file\n",
    "    df = pd.read_excel(excel_file_path)\n",
    "\n",
    "    # Save the dataframe to a CSV file\n",
    "    df.to_csv(csv_file_path, index=False)\n",
    "\n",
    "# Usage\n",
    "excel_file_path = 'BADI_monthly_20Y.xlsx'\n",
    "csv_file_path = 'BADI_monthly_20Y.csv'\n",
    "\n",
    "convert_excel_to_csv(excel_file_path, csv_file_path)"
   ]
  }
 ],
 "metadata": {
  "kernelspec": {
   "display_name": "env",
   "language": "python",
   "name": "python3"
  },
  "language_info": {
   "codemirror_mode": {
    "name": "ipython",
    "version": 3
   },
   "file_extension": ".py",
   "mimetype": "text/x-python",
   "name": "python",
   "nbconvert_exporter": "python",
   "pygments_lexer": "ipython3",
   "version": "3.9.12"
  }
 },
 "nbformat": 4,
 "nbformat_minor": 2
}
