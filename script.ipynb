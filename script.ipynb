{
 "cells": [
  {
   "cell_type": "code",
   "execution_count": null,
   "metadata": {},
   "outputs": [],
   "source": [
    "import pandas as pd\n",
    "\n",
    "def convert_excel_to_csv(excel_file_path, csv_file_path):\n",
    "    # Read the Excel file\n",
    "    df = pd.read_excel(excel_file_path)\n",
    "\n",
    "    # Save the dataframe to a CSV file\n",
    "    df.to_csv(csv_file_path, index=False)\n",
    "\n",
    "# Usage\n",
    "excel_file_path = 'BADI_monthly_20Y.xlsx'\n",
    "csv_file_path = 'BADI_monthly_20Y.csv'\n",
    "\n",
    "convert_excel_to_csv(excel_file_path, csv_file_path)"
   ]
  },
  {
   "cell_type": "code",
   "execution_count": null,
   "metadata": {},
   "outputs": [],
   "source": [
    "import pandas as pd\n",
    "\n",
    "# File paths\n",
    "file_path_data = './data/ffa/panamax/4tc_curmon_1mon.csv'\n",
    "file_path_spot_prices = './data/spot/panamax/BAPI_historical.csv'\n",
    "\n",
    "# Read the data CSV file\n",
    "data_df = pd.read_csv(file_path_data, delimiter=';', parse_dates=['Row Labels'], dayfirst=True)\n",
    "data_df.set_index('Row Labels', inplace=True)\n",
    "\n",
    "# Read the spot prices CSV file\n",
    "spot_prices_df = pd.read_csv(file_path_spot_prices, delimiter=';', parse_dates=['Date'], dayfirst=True)\n",
    "spot_prices_df.set_index('Date', inplace=True)\n",
    "\n",
    "# Ensure the index is a datetime\n",
    "data_df.index = pd.to_datetime(data_df.index)\n",
    "spot_prices_df.index = pd.to_datetime(spot_prices_df.index)\n",
    "\n",
    "# Create a new index that contains all dates from both DataFrames\n",
    "all_dates = data_df.index.union(spot_prices_df.index)\n",
    "\n",
    "# Reindex the data DataFrame to include all dates, sorting the index afterwards\n",
    "data_df = data_df.reindex(all_dates).sort_index()\n",
    "\n",
    "# Replace missing values with NaN if any non-numeric data is present\n",
    "data_df.replace('', pd.NA, inplace=True)\n",
    "\n",
    "# Interpolate missing values linearly\n",
    "data_df = data_df.interpolate(method='linear')\n",
    "\n",
    "# Save the dataframe to a new CSV file\n",
    "data_df.to_csv('./data/ffa/panamax/4tc_curmon_1mon_all_dates.csv', sep=';')\n",
    "\n",
    "# Print the dataframe to verify\n",
    "print(data_df)\n"
   ]
  },
  {
   "cell_type": "code",
   "execution_count": 2,
   "metadata": {},
   "outputs": [
    {
     "name": "stdout",
     "output_type": "stream",
     "text": [
      "        Date  4TC_PCURMON  4TC_P+1MON  4TC_FORWARD\n",
      "0 2009-09-10      20056.0     19683.0      20056.0\n",
      "1 2009-09-11      19745.0     19160.0      19745.0\n",
      "2 2009-09-14      19568.0     18960.0      19568.0\n",
      "3 2009-09-15      19335.0     18458.0      19335.0\n",
      "4 2009-09-16      19568.0     18661.0      19568.0\n"
     ]
    }
   ],
   "source": [
    "import pandas as pd\n",
    "\n",
    "# Load the dataset from the CSV file\n",
    "df = pd.read_csv('./data/ffa/panamax/4tc_curmon_1mon_all_dates.csv', delimiter=';', parse_dates=['Date'], dayfirst=True)\n",
    "\n",
    "# Ensure the 'Date' column is in datetime format (should be done by parse_dates, but just to be explicit)\n",
    "df['Date'] = pd.to_datetime(df['Date'])\n",
    "\n",
    "# Initialize '4TC_FORWARD' column with values from '4TC_PCURMON'\n",
    "df['4TC_FORWARD'] = df['4TC_PCURMON']\n",
    "\n",
    "# Find the last week of each month in the 'Date' column\n",
    "last_week_of_month = df.groupby([df['Date'].dt.year, df['Date'].dt.month])['Date'].transform('max')\n",
    "\n",
    "# If the date is in the last week of the month, use values from '4TC_P+1MON'\n",
    "df.loc[df['Date'] >= (last_week_of_month - pd.Timedelta(days=7)), '4TC_FORWARD'] = df['4TC_P+1MON']\n",
    "\n",
    "# Save the updated DataFrame to a new CSV file\n",
    "df.to_csv('./data/ffa/panamax/4tc_forward.csv', sep=';', index=False)\n",
    "\n",
    "# If you want to verify the output, you can print the first few rows of the DataFrame\n",
    "print(df.head())\n"
   ]
  }
 ],
 "metadata": {
  "kernelspec": {
   "display_name": "env",
   "language": "python",
   "name": "python3"
  },
  "language_info": {
   "codemirror_mode": {
    "name": "ipython",
    "version": 3
   },
   "file_extension": ".py",
   "mimetype": "text/x-python",
   "name": "python",
   "nbconvert_exporter": "python",
   "pygments_lexer": "ipython3",
   "version": "3.9.12"
  }
 },
 "nbformat": 4,
 "nbformat_minor": 2
}
